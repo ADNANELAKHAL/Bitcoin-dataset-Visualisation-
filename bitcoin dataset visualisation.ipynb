{
 "cells": [
  {
   "cell_type": "code",
   "execution_count": 235,
   "metadata": {},
   "outputs": [],
   "source": [
    "import pandas as pd\n",
    "import matplotlib.pyplot as plt\n",
    "import seaborn as sns\n",
    "import numpy as np\n",
    "from numpy.random  import randn\n",
    "%matplotlib inline"
   ]
  },
  {
   "cell_type": "code",
   "execution_count": 137,
   "metadata": {},
   "outputs": [],
   "source": [
    "datafr = pd.read_csv('C:/Users/adddddaaa/Desktop/BitCoin.csv', index_col=1)"
   ]
  },
  {
   "cell_type": "code",
   "execution_count": 138,
   "metadata": {},
   "outputs": [
    {
     "data": {
      "text/html": [
       "<div>\n",
       "<style scoped>\n",
       "    .dataframe tbody tr th:only-of-type {\n",
       "        vertical-align: middle;\n",
       "    }\n",
       "\n",
       "    .dataframe tbody tr th {\n",
       "        vertical-align: top;\n",
       "    }\n",
       "\n",
       "    .dataframe thead th {\n",
       "        text-align: right;\n",
       "    }\n",
       "</style>\n",
       "<table border=\"1\" class=\"dataframe\">\n",
       "  <thead>\n",
       "    <tr style=\"text-align: right;\">\n",
       "      <th></th>\n",
       "      <th>Unnamed: 0</th>\n",
       "      <th>Open</th>\n",
       "      <th>High</th>\n",
       "      <th>Low</th>\n",
       "      <th>Close</th>\n",
       "      <th>Volume</th>\n",
       "      <th>Market Cap</th>\n",
       "    </tr>\n",
       "    <tr>\n",
       "      <th>Date</th>\n",
       "      <th></th>\n",
       "      <th></th>\n",
       "      <th></th>\n",
       "      <th></th>\n",
       "      <th></th>\n",
       "      <th></th>\n",
       "      <th></th>\n",
       "    </tr>\n",
       "  </thead>\n",
       "  <tbody>\n",
       "    <tr>\n",
       "      <td>2017-09-22</td>\n",
       "      <td>0</td>\n",
       "      <td>3628.02</td>\n",
       "      <td>3758.27</td>\n",
       "      <td>3553.53</td>\n",
       "      <td>3630.70</td>\n",
       "      <td>1.194830e+09</td>\n",
       "      <td>60152300000</td>\n",
       "    </tr>\n",
       "    <tr>\n",
       "      <td>2017-09-21</td>\n",
       "      <td>1</td>\n",
       "      <td>3901.47</td>\n",
       "      <td>3916.42</td>\n",
       "      <td>3613.63</td>\n",
       "      <td>3631.04</td>\n",
       "      <td>1.411480e+09</td>\n",
       "      <td>64677600000</td>\n",
       "    </tr>\n",
       "    <tr>\n",
       "      <td>2017-09-20</td>\n",
       "      <td>2</td>\n",
       "      <td>3916.36</td>\n",
       "      <td>4031.39</td>\n",
       "      <td>3857.73</td>\n",
       "      <td>3905.95</td>\n",
       "      <td>1.213830e+09</td>\n",
       "      <td>64918500000</td>\n",
       "    </tr>\n",
       "    <tr>\n",
       "      <td>2017-09-19</td>\n",
       "      <td>3</td>\n",
       "      <td>4073.79</td>\n",
       "      <td>4094.07</td>\n",
       "      <td>3868.87</td>\n",
       "      <td>3924.97</td>\n",
       "      <td>1.563980e+09</td>\n",
       "      <td>67520300000</td>\n",
       "    </tr>\n",
       "    <tr>\n",
       "      <td>2017-09-18</td>\n",
       "      <td>4</td>\n",
       "      <td>3591.09</td>\n",
       "      <td>4079.23</td>\n",
       "      <td>3591.09</td>\n",
       "      <td>4065.20</td>\n",
       "      <td>1.943210e+09</td>\n",
       "      <td>59514100000</td>\n",
       "    </tr>\n",
       "    <tr>\n",
       "      <td>...</td>\n",
       "      <td>...</td>\n",
       "      <td>...</td>\n",
       "      <td>...</td>\n",
       "      <td>...</td>\n",
       "      <td>...</td>\n",
       "      <td>...</td>\n",
       "      <td>...</td>\n",
       "    </tr>\n",
       "    <tr>\n",
       "      <td>2013-02-05</td>\n",
       "      <td>1604</td>\n",
       "      <td>116.38</td>\n",
       "      <td>125.60</td>\n",
       "      <td>92.28</td>\n",
       "      <td>105.21</td>\n",
       "      <td>6.722784e+06</td>\n",
       "      <td>1292190000</td>\n",
       "    </tr>\n",
       "    <tr>\n",
       "      <td>2013-01-05</td>\n",
       "      <td>1605</td>\n",
       "      <td>139.00</td>\n",
       "      <td>139.89</td>\n",
       "      <td>107.72</td>\n",
       "      <td>116.99</td>\n",
       "      <td>8.026719e+06</td>\n",
       "      <td>1542820000</td>\n",
       "    </tr>\n",
       "    <tr>\n",
       "      <td>2013-04-30</td>\n",
       "      <td>1606</td>\n",
       "      <td>144.00</td>\n",
       "      <td>146.93</td>\n",
       "      <td>134.05</td>\n",
       "      <td>139.00</td>\n",
       "      <td>8.312655e+06</td>\n",
       "      <td>1597780000</td>\n",
       "    </tr>\n",
       "    <tr>\n",
       "      <td>2013-04-29</td>\n",
       "      <td>1607</td>\n",
       "      <td>134.44</td>\n",
       "      <td>147.49</td>\n",
       "      <td>134.00</td>\n",
       "      <td>144.54</td>\n",
       "      <td>7.757951e+06</td>\n",
       "      <td>1491160000</td>\n",
       "    </tr>\n",
       "    <tr>\n",
       "      <td>2013-04-28</td>\n",
       "      <td>1608</td>\n",
       "      <td>135.30</td>\n",
       "      <td>135.98</td>\n",
       "      <td>132.10</td>\n",
       "      <td>134.21</td>\n",
       "      <td>7.806648e+06</td>\n",
       "      <td>1500520000</td>\n",
       "    </tr>\n",
       "  </tbody>\n",
       "</table>\n",
       "<p>1609 rows × 7 columns</p>\n",
       "</div>"
      ],
      "text/plain": [
       "            Unnamed: 0     Open     High      Low    Close        Volume  \\\n",
       "Date                                                                       \n",
       "2017-09-22           0  3628.02  3758.27  3553.53  3630.70  1.194830e+09   \n",
       "2017-09-21           1  3901.47  3916.42  3613.63  3631.04  1.411480e+09   \n",
       "2017-09-20           2  3916.36  4031.39  3857.73  3905.95  1.213830e+09   \n",
       "2017-09-19           3  4073.79  4094.07  3868.87  3924.97  1.563980e+09   \n",
       "2017-09-18           4  3591.09  4079.23  3591.09  4065.20  1.943210e+09   \n",
       "...                ...      ...      ...      ...      ...           ...   \n",
       "2013-02-05        1604   116.38   125.60    92.28   105.21  6.722784e+06   \n",
       "2013-01-05        1605   139.00   139.89   107.72   116.99  8.026719e+06   \n",
       "2013-04-30        1606   144.00   146.93   134.05   139.00  8.312655e+06   \n",
       "2013-04-29        1607   134.44   147.49   134.00   144.54  7.757951e+06   \n",
       "2013-04-28        1608   135.30   135.98   132.10   134.21  7.806648e+06   \n",
       "\n",
       "             Market Cap  \n",
       "Date                     \n",
       "2017-09-22  60152300000  \n",
       "2017-09-21  64677600000  \n",
       "2017-09-20  64918500000  \n",
       "2017-09-19  67520300000  \n",
       "2017-09-18  59514100000  \n",
       "...                 ...  \n",
       "2013-02-05   1292190000  \n",
       "2013-01-05   1542820000  \n",
       "2013-04-30   1597780000  \n",
       "2013-04-29   1491160000  \n",
       "2013-04-28   1500520000  \n",
       "\n",
       "[1609 rows x 7 columns]"
      ]
     },
     "execution_count": 138,
     "metadata": {},
     "output_type": "execute_result"
    }
   ],
   "source": [
    "datafr"
   ]
  },
  {
   "cell_type": "code",
   "execution_count": 139,
   "metadata": {},
   "outputs": [
    {
     "data": {
      "text/html": [
       "<div>\n",
       "<style scoped>\n",
       "    .dataframe tbody tr th:only-of-type {\n",
       "        vertical-align: middle;\n",
       "    }\n",
       "\n",
       "    .dataframe tbody tr th {\n",
       "        vertical-align: top;\n",
       "    }\n",
       "\n",
       "    .dataframe thead th {\n",
       "        text-align: right;\n",
       "    }\n",
       "</style>\n",
       "<table border=\"1\" class=\"dataframe\">\n",
       "  <thead>\n",
       "    <tr style=\"text-align: right;\">\n",
       "      <th></th>\n",
       "      <th>Unnamed: 0</th>\n",
       "      <th>Open</th>\n",
       "      <th>High</th>\n",
       "      <th>Low</th>\n",
       "      <th>Close</th>\n",
       "      <th>Volume</th>\n",
       "      <th>Market Cap</th>\n",
       "    </tr>\n",
       "    <tr>\n",
       "      <th>Date</th>\n",
       "      <th></th>\n",
       "      <th></th>\n",
       "      <th></th>\n",
       "      <th></th>\n",
       "      <th></th>\n",
       "      <th></th>\n",
       "      <th></th>\n",
       "    </tr>\n",
       "  </thead>\n",
       "  <tbody>\n",
       "    <tr>\n",
       "      <td>2017-09-22</td>\n",
       "      <td>0</td>\n",
       "      <td>3628.02</td>\n",
       "      <td>3758.27</td>\n",
       "      <td>3553.53</td>\n",
       "      <td>3630.70</td>\n",
       "      <td>1.194830e+09</td>\n",
       "      <td>60152300000</td>\n",
       "    </tr>\n",
       "    <tr>\n",
       "      <td>2017-09-21</td>\n",
       "      <td>1</td>\n",
       "      <td>3901.47</td>\n",
       "      <td>3916.42</td>\n",
       "      <td>3613.63</td>\n",
       "      <td>3631.04</td>\n",
       "      <td>1.411480e+09</td>\n",
       "      <td>64677600000</td>\n",
       "    </tr>\n",
       "    <tr>\n",
       "      <td>2017-09-20</td>\n",
       "      <td>2</td>\n",
       "      <td>3916.36</td>\n",
       "      <td>4031.39</td>\n",
       "      <td>3857.73</td>\n",
       "      <td>3905.95</td>\n",
       "      <td>1.213830e+09</td>\n",
       "      <td>64918500000</td>\n",
       "    </tr>\n",
       "    <tr>\n",
       "      <td>2017-09-19</td>\n",
       "      <td>3</td>\n",
       "      <td>4073.79</td>\n",
       "      <td>4094.07</td>\n",
       "      <td>3868.87</td>\n",
       "      <td>3924.97</td>\n",
       "      <td>1.563980e+09</td>\n",
       "      <td>67520300000</td>\n",
       "    </tr>\n",
       "    <tr>\n",
       "      <td>2017-09-18</td>\n",
       "      <td>4</td>\n",
       "      <td>3591.09</td>\n",
       "      <td>4079.23</td>\n",
       "      <td>3591.09</td>\n",
       "      <td>4065.20</td>\n",
       "      <td>1.943210e+09</td>\n",
       "      <td>59514100000</td>\n",
       "    </tr>\n",
       "  </tbody>\n",
       "</table>\n",
       "</div>"
      ],
      "text/plain": [
       "            Unnamed: 0     Open     High      Low    Close        Volume  \\\n",
       "Date                                                                       \n",
       "2017-09-22           0  3628.02  3758.27  3553.53  3630.70  1.194830e+09   \n",
       "2017-09-21           1  3901.47  3916.42  3613.63  3631.04  1.411480e+09   \n",
       "2017-09-20           2  3916.36  4031.39  3857.73  3905.95  1.213830e+09   \n",
       "2017-09-19           3  4073.79  4094.07  3868.87  3924.97  1.563980e+09   \n",
       "2017-09-18           4  3591.09  4079.23  3591.09  4065.20  1.943210e+09   \n",
       "\n",
       "             Market Cap  \n",
       "Date                     \n",
       "2017-09-22  60152300000  \n",
       "2017-09-21  64677600000  \n",
       "2017-09-20  64918500000  \n",
       "2017-09-19  67520300000  \n",
       "2017-09-18  59514100000  "
      ]
     },
     "execution_count": 139,
     "metadata": {},
     "output_type": "execute_result"
    }
   ],
   "source": [
    "datafr.head()"
   ]
  },
  {
   "cell_type": "code",
   "execution_count": 140,
   "metadata": {},
   "outputs": [
    {
     "data": {
      "text/html": [
       "<div>\n",
       "<style scoped>\n",
       "    .dataframe tbody tr th:only-of-type {\n",
       "        vertical-align: middle;\n",
       "    }\n",
       "\n",
       "    .dataframe tbody tr th {\n",
       "        vertical-align: top;\n",
       "    }\n",
       "\n",
       "    .dataframe thead th {\n",
       "        text-align: right;\n",
       "    }\n",
       "</style>\n",
       "<table border=\"1\" class=\"dataframe\">\n",
       "  <thead>\n",
       "    <tr style=\"text-align: right;\">\n",
       "      <th></th>\n",
       "      <th>Unnamed: 0</th>\n",
       "      <th>Open</th>\n",
       "      <th>High</th>\n",
       "      <th>Low</th>\n",
       "      <th>Close</th>\n",
       "      <th>Volume</th>\n",
       "      <th>Market Cap</th>\n",
       "    </tr>\n",
       "    <tr>\n",
       "      <th>Date</th>\n",
       "      <th></th>\n",
       "      <th></th>\n",
       "      <th></th>\n",
       "      <th></th>\n",
       "      <th></th>\n",
       "      <th></th>\n",
       "      <th></th>\n",
       "    </tr>\n",
       "  </thead>\n",
       "  <tbody>\n",
       "    <tr>\n",
       "      <td>2013-02-05</td>\n",
       "      <td>1604</td>\n",
       "      <td>116.38</td>\n",
       "      <td>125.60</td>\n",
       "      <td>92.28</td>\n",
       "      <td>105.21</td>\n",
       "      <td>6722784.102</td>\n",
       "      <td>1292190000</td>\n",
       "    </tr>\n",
       "    <tr>\n",
       "      <td>2013-01-05</td>\n",
       "      <td>1605</td>\n",
       "      <td>139.00</td>\n",
       "      <td>139.89</td>\n",
       "      <td>107.72</td>\n",
       "      <td>116.99</td>\n",
       "      <td>8026718.801</td>\n",
       "      <td>1542820000</td>\n",
       "    </tr>\n",
       "    <tr>\n",
       "      <td>2013-04-30</td>\n",
       "      <td>1606</td>\n",
       "      <td>144.00</td>\n",
       "      <td>146.93</td>\n",
       "      <td>134.05</td>\n",
       "      <td>139.00</td>\n",
       "      <td>8312655.246</td>\n",
       "      <td>1597780000</td>\n",
       "    </tr>\n",
       "    <tr>\n",
       "      <td>2013-04-29</td>\n",
       "      <td>1607</td>\n",
       "      <td>134.44</td>\n",
       "      <td>147.49</td>\n",
       "      <td>134.00</td>\n",
       "      <td>144.54</td>\n",
       "      <td>7757951.030</td>\n",
       "      <td>1491160000</td>\n",
       "    </tr>\n",
       "    <tr>\n",
       "      <td>2013-04-28</td>\n",
       "      <td>1608</td>\n",
       "      <td>135.30</td>\n",
       "      <td>135.98</td>\n",
       "      <td>132.10</td>\n",
       "      <td>134.21</td>\n",
       "      <td>7806647.629</td>\n",
       "      <td>1500520000</td>\n",
       "    </tr>\n",
       "  </tbody>\n",
       "</table>\n",
       "</div>"
      ],
      "text/plain": [
       "            Unnamed: 0    Open    High     Low   Close       Volume  \\\n",
       "Date                                                                  \n",
       "2013-02-05        1604  116.38  125.60   92.28  105.21  6722784.102   \n",
       "2013-01-05        1605  139.00  139.89  107.72  116.99  8026718.801   \n",
       "2013-04-30        1606  144.00  146.93  134.05  139.00  8312655.246   \n",
       "2013-04-29        1607  134.44  147.49  134.00  144.54  7757951.030   \n",
       "2013-04-28        1608  135.30  135.98  132.10  134.21  7806647.629   \n",
       "\n",
       "            Market Cap  \n",
       "Date                    \n",
       "2013-02-05  1292190000  \n",
       "2013-01-05  1542820000  \n",
       "2013-04-30  1597780000  \n",
       "2013-04-29  1491160000  \n",
       "2013-04-28  1500520000  "
      ]
     },
     "execution_count": 140,
     "metadata": {},
     "output_type": "execute_result"
    }
   ],
   "source": [
    "datafr.tail()"
   ]
  },
  {
   "cell_type": "code",
   "execution_count": 141,
   "metadata": {},
   "outputs": [
    {
     "data": {
      "text/plain": [
       "(1609, 7)"
      ]
     },
     "execution_count": 141,
     "metadata": {},
     "output_type": "execute_result"
    }
   ],
   "source": [
    "datafr.shape"
   ]
  },
  {
   "cell_type": "code",
   "execution_count": 142,
   "metadata": {},
   "outputs": [],
   "source": [
    "del datafr['Unnamed: 0']"
   ]
  },
  {
   "cell_type": "code",
   "execution_count": 143,
   "metadata": {},
   "outputs": [
    {
     "data": {
      "text/html": [
       "<div>\n",
       "<style scoped>\n",
       "    .dataframe tbody tr th:only-of-type {\n",
       "        vertical-align: middle;\n",
       "    }\n",
       "\n",
       "    .dataframe tbody tr th {\n",
       "        vertical-align: top;\n",
       "    }\n",
       "\n",
       "    .dataframe thead th {\n",
       "        text-align: right;\n",
       "    }\n",
       "</style>\n",
       "<table border=\"1\" class=\"dataframe\">\n",
       "  <thead>\n",
       "    <tr style=\"text-align: right;\">\n",
       "      <th></th>\n",
       "      <th>Open</th>\n",
       "      <th>High</th>\n",
       "      <th>Low</th>\n",
       "      <th>Close</th>\n",
       "      <th>Volume</th>\n",
       "      <th>Market Cap</th>\n",
       "    </tr>\n",
       "    <tr>\n",
       "      <th>Date</th>\n",
       "      <th></th>\n",
       "      <th></th>\n",
       "      <th></th>\n",
       "      <th></th>\n",
       "      <th></th>\n",
       "      <th></th>\n",
       "    </tr>\n",
       "  </thead>\n",
       "  <tbody>\n",
       "    <tr>\n",
       "      <td>2017-09-22</td>\n",
       "      <td>3628.02</td>\n",
       "      <td>3758.27</td>\n",
       "      <td>3553.53</td>\n",
       "      <td>3630.70</td>\n",
       "      <td>1.194830e+09</td>\n",
       "      <td>60152300000</td>\n",
       "    </tr>\n",
       "    <tr>\n",
       "      <td>2017-09-21</td>\n",
       "      <td>3901.47</td>\n",
       "      <td>3916.42</td>\n",
       "      <td>3613.63</td>\n",
       "      <td>3631.04</td>\n",
       "      <td>1.411480e+09</td>\n",
       "      <td>64677600000</td>\n",
       "    </tr>\n",
       "    <tr>\n",
       "      <td>2017-09-20</td>\n",
       "      <td>3916.36</td>\n",
       "      <td>4031.39</td>\n",
       "      <td>3857.73</td>\n",
       "      <td>3905.95</td>\n",
       "      <td>1.213830e+09</td>\n",
       "      <td>64918500000</td>\n",
       "    </tr>\n",
       "    <tr>\n",
       "      <td>2017-09-19</td>\n",
       "      <td>4073.79</td>\n",
       "      <td>4094.07</td>\n",
       "      <td>3868.87</td>\n",
       "      <td>3924.97</td>\n",
       "      <td>1.563980e+09</td>\n",
       "      <td>67520300000</td>\n",
       "    </tr>\n",
       "    <tr>\n",
       "      <td>2017-09-18</td>\n",
       "      <td>3591.09</td>\n",
       "      <td>4079.23</td>\n",
       "      <td>3591.09</td>\n",
       "      <td>4065.20</td>\n",
       "      <td>1.943210e+09</td>\n",
       "      <td>59514100000</td>\n",
       "    </tr>\n",
       "  </tbody>\n",
       "</table>\n",
       "</div>"
      ],
      "text/plain": [
       "               Open     High      Low    Close        Volume   Market Cap\n",
       "Date                                                                     \n",
       "2017-09-22  3628.02  3758.27  3553.53  3630.70  1.194830e+09  60152300000\n",
       "2017-09-21  3901.47  3916.42  3613.63  3631.04  1.411480e+09  64677600000\n",
       "2017-09-20  3916.36  4031.39  3857.73  3905.95  1.213830e+09  64918500000\n",
       "2017-09-19  4073.79  4094.07  3868.87  3924.97  1.563980e+09  67520300000\n",
       "2017-09-18  3591.09  4079.23  3591.09  4065.20  1.943210e+09  59514100000"
      ]
     },
     "execution_count": 143,
     "metadata": {},
     "output_type": "execute_result"
    }
   ],
   "source": [
    "datafr.head()"
   ]
  },
  {
   "cell_type": "code",
   "execution_count": 144,
   "metadata": {},
   "outputs": [
    {
     "name": "stdout",
     "output_type": "stream",
     "text": [
      "<class 'pandas.core.frame.DataFrame'>\n",
      "Index: 1609 entries, 2017-09-22 to 2013-04-28\n",
      "Data columns (total 6 columns):\n",
      "Open          1609 non-null float64\n",
      "High          1609 non-null float64\n",
      "Low           1609 non-null float64\n",
      "Close         1609 non-null float64\n",
      "Volume        1609 non-null float64\n",
      "Market Cap    1609 non-null int64\n",
      "dtypes: float64(5), int64(1)\n",
      "memory usage: 88.0+ KB\n"
     ]
    }
   ],
   "source": [
    "datafr.info()"
   ]
  },
  {
   "cell_type": "code",
   "execution_count": 248,
   "metadata": {},
   "outputs": [
    {
     "name": "stdout",
     "output_type": "stream",
     "text": [
      "<class 'pandas.core.frame.DataFrame'>\n",
      "Index: 1609 entries, 2017-09-22 to 2013-04-28\n",
      "Data columns (total 6 columns):\n",
      "Open          1609 non-null float64\n",
      "High          1609 non-null float64\n",
      "Low           1609 non-null float64\n",
      "Close         1609 non-null float64\n",
      "Volume        1609 non-null float64\n",
      "Market Cap    1609 non-null int64\n",
      "dtypes: float64(5), int64(1)\n",
      "memory usage: 88.0+ KB\n"
     ]
    },
    {
     "data": {
      "text/html": [
       "<div>\n",
       "<style scoped>\n",
       "    .dataframe tbody tr th:only-of-type {\n",
       "        vertical-align: middle;\n",
       "    }\n",
       "\n",
       "    .dataframe tbody tr th {\n",
       "        vertical-align: top;\n",
       "    }\n",
       "\n",
       "    .dataframe thead th {\n",
       "        text-align: right;\n",
       "    }\n",
       "</style>\n",
       "<table border=\"1\" class=\"dataframe\">\n",
       "  <thead>\n",
       "    <tr style=\"text-align: right;\">\n",
       "      <th></th>\n",
       "      <th>Close</th>\n",
       "    </tr>\n",
       "    <tr>\n",
       "      <th>Date</th>\n",
       "      <th></th>\n",
       "    </tr>\n",
       "  </thead>\n",
       "  <tbody>\n",
       "    <tr>\n",
       "      <td>2017-09-22</td>\n",
       "      <td>3630.70</td>\n",
       "    </tr>\n",
       "    <tr>\n",
       "      <td>2017-09-21</td>\n",
       "      <td>3631.04</td>\n",
       "    </tr>\n",
       "    <tr>\n",
       "      <td>2017-09-20</td>\n",
       "      <td>3905.95</td>\n",
       "    </tr>\n",
       "    <tr>\n",
       "      <td>2017-09-19</td>\n",
       "      <td>3924.97</td>\n",
       "    </tr>\n",
       "    <tr>\n",
       "      <td>2017-09-18</td>\n",
       "      <td>4065.20</td>\n",
       "    </tr>\n",
       "    <tr>\n",
       "      <td>...</td>\n",
       "      <td>...</td>\n",
       "    </tr>\n",
       "    <tr>\n",
       "      <td>2013-02-05</td>\n",
       "      <td>105.21</td>\n",
       "    </tr>\n",
       "    <tr>\n",
       "      <td>2013-01-05</td>\n",
       "      <td>116.99</td>\n",
       "    </tr>\n",
       "    <tr>\n",
       "      <td>2013-04-30</td>\n",
       "      <td>139.00</td>\n",
       "    </tr>\n",
       "    <tr>\n",
       "      <td>2013-04-29</td>\n",
       "      <td>144.54</td>\n",
       "    </tr>\n",
       "    <tr>\n",
       "      <td>2013-04-28</td>\n",
       "      <td>134.21</td>\n",
       "    </tr>\n",
       "  </tbody>\n",
       "</table>\n",
       "<p>1609 rows × 1 columns</p>\n",
       "</div>"
      ],
      "text/plain": [
       "              Close\n",
       "Date               \n",
       "2017-09-22  3630.70\n",
       "2017-09-21  3631.04\n",
       "2017-09-20  3905.95\n",
       "2017-09-19  3924.97\n",
       "2017-09-18  4065.20\n",
       "...             ...\n",
       "2013-02-05   105.21\n",
       "2013-01-05   116.99\n",
       "2013-04-30   139.00\n",
       "2013-04-29   144.54\n",
       "2013-04-28   134.21\n",
       "\n",
       "[1609 rows x 1 columns]"
      ]
     },
     "execution_count": 248,
     "metadata": {},
     "output_type": "execute_result"
    }
   ],
   "source": [
    "datafr.info()\n",
    "series1=datafr[['Close']]\n",
    "series1"
   ]
  },
  {
   "cell_type": "code",
   "execution_count": 249,
   "metadata": {},
   "outputs": [
    {
     "data": {
      "text/html": [
       "<div>\n",
       "<style scoped>\n",
       "    .dataframe tbody tr th:only-of-type {\n",
       "        vertical-align: middle;\n",
       "    }\n",
       "\n",
       "    .dataframe tbody tr th {\n",
       "        vertical-align: top;\n",
       "    }\n",
       "\n",
       "    .dataframe thead th {\n",
       "        text-align: right;\n",
       "    }\n",
       "</style>\n",
       "<table border=\"1\" class=\"dataframe\">\n",
       "  <thead>\n",
       "    <tr style=\"text-align: right;\">\n",
       "      <th></th>\n",
       "      <th>Open</th>\n",
       "      <th>High</th>\n",
       "      <th>Low</th>\n",
       "      <th>Close</th>\n",
       "      <th>Volume</th>\n",
       "      <th>Market Cap</th>\n",
       "    </tr>\n",
       "  </thead>\n",
       "  <tbody>\n",
       "    <tr>\n",
       "      <td>count</td>\n",
       "      <td>1609.000000</td>\n",
       "      <td>1609.000000</td>\n",
       "      <td>1609.000000</td>\n",
       "      <td>1609.000000</td>\n",
       "      <td>1.609000e+03</td>\n",
       "      <td>1.609000e+03</td>\n",
       "    </tr>\n",
       "    <tr>\n",
       "      <td>mean</td>\n",
       "      <td>693.497433</td>\n",
       "      <td>712.776582</td>\n",
       "      <td>674.365525</td>\n",
       "      <td>695.563356</td>\n",
       "      <td>1.910350e+08</td>\n",
       "      <td>1.055802e+10</td>\n",
       "    </tr>\n",
       "    <tr>\n",
       "      <td>std</td>\n",
       "      <td>797.365059</td>\n",
       "      <td>825.622752</td>\n",
       "      <td>768.109415</td>\n",
       "      <td>800.557569</td>\n",
       "      <td>4.728111e+08</td>\n",
       "      <td>1.334589e+10</td>\n",
       "    </tr>\n",
       "    <tr>\n",
       "      <td>min</td>\n",
       "      <td>68.500000</td>\n",
       "      <td>74.560000</td>\n",
       "      <td>65.530000</td>\n",
       "      <td>68.430000</td>\n",
       "      <td>2.857830e+06</td>\n",
       "      <td>7.792550e+08</td>\n",
       "    </tr>\n",
       "    <tr>\n",
       "      <td>25%</td>\n",
       "      <td>260.720000</td>\n",
       "      <td>265.610000</td>\n",
       "      <td>254.200000</td>\n",
       "      <td>260.890000</td>\n",
       "      <td>1.660970e+07</td>\n",
       "      <td>3.668040e+09</td>\n",
       "    </tr>\n",
       "    <tr>\n",
       "      <td>50%</td>\n",
       "      <td>446.890000</td>\n",
       "      <td>452.480000</td>\n",
       "      <td>440.500000</td>\n",
       "      <td>447.530000</td>\n",
       "      <td>3.878908e+07</td>\n",
       "      <td>6.476080e+09</td>\n",
       "    </tr>\n",
       "    <tr>\n",
       "      <td>75%</td>\n",
       "      <td>701.340000</td>\n",
       "      <td>714.120000</td>\n",
       "      <td>670.880000</td>\n",
       "      <td>702.030000</td>\n",
       "      <td>8.524490e+07</td>\n",
       "      <td>1.032810e+10</td>\n",
       "    </tr>\n",
       "    <tr>\n",
       "      <td>max</td>\n",
       "      <td>4901.420000</td>\n",
       "      <td>4975.040000</td>\n",
       "      <td>4678.530000</td>\n",
       "      <td>4892.010000</td>\n",
       "      <td>4.148070e+09</td>\n",
       "      <td>8.106060e+10</td>\n",
       "    </tr>\n",
       "  </tbody>\n",
       "</table>\n",
       "</div>"
      ],
      "text/plain": [
       "              Open         High          Low        Close        Volume  \\\n",
       "count  1609.000000  1609.000000  1609.000000  1609.000000  1.609000e+03   \n",
       "mean    693.497433   712.776582   674.365525   695.563356  1.910350e+08   \n",
       "std     797.365059   825.622752   768.109415   800.557569  4.728111e+08   \n",
       "min      68.500000    74.560000    65.530000    68.430000  2.857830e+06   \n",
       "25%     260.720000   265.610000   254.200000   260.890000  1.660970e+07   \n",
       "50%     446.890000   452.480000   440.500000   447.530000  3.878908e+07   \n",
       "75%     701.340000   714.120000   670.880000   702.030000  8.524490e+07   \n",
       "max    4901.420000  4975.040000  4678.530000  4892.010000  4.148070e+09   \n",
       "\n",
       "         Market Cap  \n",
       "count  1.609000e+03  \n",
       "mean   1.055802e+10  \n",
       "std    1.334589e+10  \n",
       "min    7.792550e+08  \n",
       "25%    3.668040e+09  \n",
       "50%    6.476080e+09  \n",
       "75%    1.032810e+10  \n",
       "max    8.106060e+10  "
      ]
     },
     "execution_count": 249,
     "metadata": {},
     "output_type": "execute_result"
    }
   ],
   "source": [
    "datafr.describe()"
   ]
  },
  {
   "cell_type": "code",
   "execution_count": 254,
   "metadata": {},
   "outputs": [
    {
     "data": {
      "text/plain": [
       "<Figure size 432x288 with 0 Axes>"
      ]
     },
     "metadata": {},
     "output_type": "display_data"
    },
    {
     "data": {
      "image/png": "[encoded data removed]",
      "text/plain": [
       "<Figure size 648x288 with 1 Axes>"
      ]
     },
     "metadata": {
      "needs_background": "light"
     },
     "output_type": "display_data"
    }
   ],
   "source": [
    "plt.figure()\n",
    "series1.plot(figsize=(9,4),title=\"bitcoin closing trend in $\")\n",
    "plt.show()\n"
   ]
  },
  {
   "cell_type": "code",
   "execution_count": 222,
   "metadata": {},
   "outputs": [
    {
     "data": {
      "text/html": [
       "<div>\n",
       "<style scoped>\n",
       "    .dataframe tbody tr th:only-of-type {\n",
       "        vertical-align: middle;\n",
       "    }\n",
       "\n",
       "    .dataframe tbody tr th {\n",
       "        vertical-align: top;\n",
       "    }\n",
       "\n",
       "    .dataframe thead th {\n",
       "        text-align: right;\n",
       "    }\n",
       "</style>\n",
       "<table border=\"1\" class=\"dataframe\">\n",
       "  <thead>\n",
       "    <tr style=\"text-align: right;\">\n",
       "      <th></th>\n",
       "      <th>High</th>\n",
       "    </tr>\n",
       "    <tr>\n",
       "      <th>Date</th>\n",
       "      <th></th>\n",
       "    </tr>\n",
       "  </thead>\n",
       "  <tbody>\n",
       "    <tr>\n",
       "      <td>2017-09-22</td>\n",
       "      <td>3758.27</td>\n",
       "    </tr>\n",
       "    <tr>\n",
       "      <td>2017-09-21</td>\n",
       "      <td>3916.42</td>\n",
       "    </tr>\n",
       "    <tr>\n",
       "      <td>2017-09-20</td>\n",
       "      <td>4031.39</td>\n",
       "    </tr>\n",
       "    <tr>\n",
       "      <td>2017-09-19</td>\n",
       "      <td>4094.07</td>\n",
       "    </tr>\n",
       "    <tr>\n",
       "      <td>2017-09-18</td>\n",
       "      <td>4079.23</td>\n",
       "    </tr>\n",
       "    <tr>\n",
       "      <td>...</td>\n",
       "      <td>...</td>\n",
       "    </tr>\n",
       "    <tr>\n",
       "      <td>2013-02-05</td>\n",
       "      <td>125.60</td>\n",
       "    </tr>\n",
       "    <tr>\n",
       "      <td>2013-01-05</td>\n",
       "      <td>139.89</td>\n",
       "    </tr>\n",
       "    <tr>\n",
       "      <td>2013-04-30</td>\n",
       "      <td>146.93</td>\n",
       "    </tr>\n",
       "    <tr>\n",
       "      <td>2013-04-29</td>\n",
       "      <td>147.49</td>\n",
       "    </tr>\n",
       "    <tr>\n",
       "      <td>2013-04-28</td>\n",
       "      <td>135.98</td>\n",
       "    </tr>\n",
       "  </tbody>\n",
       "</table>\n",
       "<p>1609 rows × 1 columns</p>\n",
       "</div>"
      ],
      "text/plain": [
       "               High\n",
       "Date               \n",
       "2017-09-22  3758.27\n",
       "2017-09-21  3916.42\n",
       "2017-09-20  4031.39\n",
       "2017-09-19  4094.07\n",
       "2017-09-18  4079.23\n",
       "...             ...\n",
       "2013-02-05   125.60\n",
       "2013-01-05   139.89\n",
       "2013-04-30   146.93\n",
       "2013-04-29   147.49\n",
       "2013-04-28   135.98\n",
       "\n",
       "[1609 rows x 1 columns]"
      ]
     },
     "execution_count": 222,
     "metadata": {},
     "output_type": "execute_result"
    }
   ],
   "source": [
    "series2=datafr[['High']]\n",
    "series2"
   ]
  },
  {
   "cell_type": "code",
   "execution_count": 223,
   "metadata": {},
   "outputs": [
    {
     "data": {
      "text/plain": [
       "<Figure size 432x288 with 0 Axes>"
      ]
     },
     "metadata": {},
     "output_type": "display_data"
    },
    {
     "data": {
      "image/png": "[encoded data removed]",
      "text/plain": [
       "<Figure size 1080x288 with 1 Axes>"
      ]
     },
     "metadata": {
      "needs_background": "light"
     },
     "output_type": "display_data"
    }
   ],
   "source": [
    "plt.figure()\n",
    "series2.plot(figsize=(15,4),title='bitcoin Highest value trend')\n",
    "plt.show()"
   ]
  },
  {
   "cell_type": "code",
   "execution_count": 224,
   "metadata": {},
   "outputs": [
    {
     "data": {
      "text/html": [
       "<div>\n",
       "<style scoped>\n",
       "    .dataframe tbody tr th:only-of-type {\n",
       "        vertical-align: middle;\n",
       "    }\n",
       "\n",
       "    .dataframe tbody tr th {\n",
       "        vertical-align: top;\n",
       "    }\n",
       "\n",
       "    .dataframe thead th {\n",
       "        text-align: right;\n",
       "    }\n",
       "</style>\n",
       "<table border=\"1\" class=\"dataframe\">\n",
       "  <thead>\n",
       "    <tr style=\"text-align: right;\">\n",
       "      <th></th>\n",
       "      <th>Open</th>\n",
       "    </tr>\n",
       "    <tr>\n",
       "      <th>Date</th>\n",
       "      <th></th>\n",
       "    </tr>\n",
       "  </thead>\n",
       "  <tbody>\n",
       "    <tr>\n",
       "      <td>2017-09-22</td>\n",
       "      <td>3628.02</td>\n",
       "    </tr>\n",
       "    <tr>\n",
       "      <td>2017-09-21</td>\n",
       "      <td>3901.47</td>\n",
       "    </tr>\n",
       "    <tr>\n",
       "      <td>2017-09-20</td>\n",
       "      <td>3916.36</td>\n",
       "    </tr>\n",
       "    <tr>\n",
       "      <td>2017-09-19</td>\n",
       "      <td>4073.79</td>\n",
       "    </tr>\n",
       "    <tr>\n",
       "      <td>2017-09-18</td>\n",
       "      <td>3591.09</td>\n",
       "    </tr>\n",
       "    <tr>\n",
       "      <td>...</td>\n",
       "      <td>...</td>\n",
       "    </tr>\n",
       "    <tr>\n",
       "      <td>2013-02-05</td>\n",
       "      <td>116.38</td>\n",
       "    </tr>\n",
       "    <tr>\n",
       "      <td>2013-01-05</td>\n",
       "      <td>139.00</td>\n",
       "    </tr>\n",
       "    <tr>\n",
       "      <td>2013-04-30</td>\n",
       "      <td>144.00</td>\n",
       "    </tr>\n",
       "    <tr>\n",
       "      <td>2013-04-29</td>\n",
       "      <td>134.44</td>\n",
       "    </tr>\n",
       "    <tr>\n",
       "      <td>2013-04-28</td>\n",
       "      <td>135.30</td>\n",
       "    </tr>\n",
       "  </tbody>\n",
       "</table>\n",
       "<p>1609 rows × 1 columns</p>\n",
       "</div>"
      ],
      "text/plain": [
       "               Open\n",
       "Date               \n",
       "2017-09-22  3628.02\n",
       "2017-09-21  3901.47\n",
       "2017-09-20  3916.36\n",
       "2017-09-19  4073.79\n",
       "2017-09-18  3591.09\n",
       "...             ...\n",
       "2013-02-05   116.38\n",
       "2013-01-05   139.00\n",
       "2013-04-30   144.00\n",
       "2013-04-29   134.44\n",
       "2013-04-28   135.30\n",
       "\n",
       "[1609 rows x 1 columns]"
      ]
     },
     "execution_count": 224,
     "metadata": {},
     "output_type": "execute_result"
    }
   ],
   "source": [
    "series3=datafr[['Open']]\n",
    "series3"
   ]
  },
  {
   "cell_type": "code",
   "execution_count": 232,
   "metadata": {},
   "outputs": [
    {
     "data": {
      "text/plain": [
       "<Figure size 432x288 with 0 Axes>"
      ]
     },
     "metadata": {},
     "output_type": "display_data"
    },
    {
     "data": {
      "image/png": "[encoded data removed]",
      "text/plain": [
       "<Figure size 1008x288 with 1 Axes>"
      ]
     },
     "metadata": {
      "needs_background": "light"
     },
     "output_type": "display_data"
    }
   ],
   "source": [
    "plt.figure()\n",
    "series3.plot(figsize=(14,4),title='bitcoin Opening value trend')\n",
    "plt.show()"
   ]
  },
  {
   "cell_type": "code",
   "execution_count": 212,
   "metadata": {},
   "outputs": [
    {
     "data": {
      "text/html": [
       "<div>\n",
       "<style scoped>\n",
       "    .dataframe tbody tr th:only-of-type {\n",
       "        vertical-align: middle;\n",
       "    }\n",
       "\n",
       "    .dataframe tbody tr th {\n",
       "        vertical-align: top;\n",
       "    }\n",
       "\n",
       "    .dataframe thead th {\n",
       "        text-align: right;\n",
       "    }\n",
       "</style>\n",
       "<table border=\"1\" class=\"dataframe\">\n",
       "  <thead>\n",
       "    <tr style=\"text-align: right;\">\n",
       "      <th></th>\n",
       "      <th>Low</th>\n",
       "    </tr>\n",
       "    <tr>\n",
       "      <th>Date</th>\n",
       "      <th></th>\n",
       "    </tr>\n",
       "  </thead>\n",
       "  <tbody>\n",
       "    <tr>\n",
       "      <td>2017-09-22</td>\n",
       "      <td>3553.53</td>\n",
       "    </tr>\n",
       "    <tr>\n",
       "      <td>2017-09-21</td>\n",
       "      <td>3613.63</td>\n",
       "    </tr>\n",
       "    <tr>\n",
       "      <td>2017-09-20</td>\n",
       "      <td>3857.73</td>\n",
       "    </tr>\n",
       "    <tr>\n",
       "      <td>2017-09-19</td>\n",
       "      <td>3868.87</td>\n",
       "    </tr>\n",
       "    <tr>\n",
       "      <td>2017-09-18</td>\n",
       "      <td>3591.09</td>\n",
       "    </tr>\n",
       "    <tr>\n",
       "      <td>...</td>\n",
       "      <td>...</td>\n",
       "    </tr>\n",
       "    <tr>\n",
       "      <td>2013-02-05</td>\n",
       "      <td>92.28</td>\n",
       "    </tr>\n",
       "    <tr>\n",
       "      <td>2013-01-05</td>\n",
       "      <td>107.72</td>\n",
       "    </tr>\n",
       "    <tr>\n",
       "      <td>2013-04-30</td>\n",
       "      <td>134.05</td>\n",
       "    </tr>\n",
       "    <tr>\n",
       "      <td>2013-04-29</td>\n",
       "      <td>134.00</td>\n",
       "    </tr>\n",
       "    <tr>\n",
       "      <td>2013-04-28</td>\n",
       "      <td>132.10</td>\n",
       "    </tr>\n",
       "  </tbody>\n",
       "</table>\n",
       "<p>1609 rows × 1 columns</p>\n",
       "</div>"
      ],
      "text/plain": [
       "                Low\n",
       "Date               \n",
       "2017-09-22  3553.53\n",
       "2017-09-21  3613.63\n",
       "2017-09-20  3857.73\n",
       "2017-09-19  3868.87\n",
       "2017-09-18  3591.09\n",
       "...             ...\n",
       "2013-02-05    92.28\n",
       "2013-01-05   107.72\n",
       "2013-04-30   134.05\n",
       "2013-04-29   134.00\n",
       "2013-04-28   132.10\n",
       "\n",
       "[1609 rows x 1 columns]"
      ]
     },
     "execution_count": 212,
     "metadata": {},
     "output_type": "execute_result"
    }
   ],
   "source": [
    "series4=datafr[['Low']]\n",
    "series4"
   ]
  },
  {
   "cell_type": "code",
   "execution_count": 239,
   "metadata": {},
   "outputs": [
    {
     "data": {
      "text/plain": [
       "<Figure size 432x288 with 0 Axes>"
      ]
     },
     "metadata": {},
     "output_type": "display_data"
    },
    {
     "data": {
      "image/png": "[encoded data removed]",
      "text/plain": [
       "<Figure size 1008x432 with 1 Axes>"
      ]
     },
     "metadata": {
      "needs_background": "light"
     },
     "output_type": "display_data"
    }
   ],
   "source": [
    "plt.figure()\n",
    "series4.plot(figsize=(14,6),title=\"BitCoin Lowest trend in $\")\n",
    "\n",
    "plt.show()"
   ]
  },
  {
   "cell_type": "code",
   "execution_count": 320,
   "metadata": {},
   "outputs": [
    {
     "data": {
      "text/html": [
       "<div>\n",
       "<style scoped>\n",
       "    .dataframe tbody tr th:only-of-type {\n",
       "        vertical-align: middle;\n",
       "    }\n",
       "\n",
       "    .dataframe tbody tr th {\n",
       "        vertical-align: top;\n",
       "    }\n",
       "\n",
       "    .dataframe thead th {\n",
       "        text-align: right;\n",
       "    }\n",
       "</style>\n",
       "<table border=\"1\" class=\"dataframe\">\n",
       "  <thead>\n",
       "    <tr style=\"text-align: right;\">\n",
       "      <th></th>\n",
       "      <th>Close</th>\n",
       "    </tr>\n",
       "    <tr>\n",
       "      <th>Date</th>\n",
       "      <th></th>\n",
       "    </tr>\n",
       "  </thead>\n",
       "  <tbody>\n",
       "    <tr>\n",
       "      <td>2017-09-16</td>\n",
       "      <td>3625.04</td>\n",
       "    </tr>\n",
       "    <tr>\n",
       "      <td>2017-09-15</td>\n",
       "      <td>3637.52</td>\n",
       "    </tr>\n",
       "    <tr>\n",
       "      <td>2017-09-14</td>\n",
       "      <td>3154.95</td>\n",
       "    </tr>\n",
       "    <tr>\n",
       "      <td>2017-09-13</td>\n",
       "      <td>3882.59</td>\n",
       "    </tr>\n",
       "    <tr>\n",
       "      <td>2017-12-09</td>\n",
       "      <td>4130.81</td>\n",
       "    </tr>\n",
       "    <tr>\n",
       "      <td>2017-11-09</td>\n",
       "      <td>4161.27</td>\n",
       "    </tr>\n",
       "    <tr>\n",
       "      <td>2017-10-09</td>\n",
       "      <td>4122.94</td>\n",
       "    </tr>\n",
       "    <tr>\n",
       "      <td>2017-09-09</td>\n",
       "      <td>4226.06</td>\n",
       "    </tr>\n",
       "  </tbody>\n",
       "</table>\n",
       "</div>"
      ],
      "text/plain": [
       "              Close\n",
       "Date               \n",
       "2017-09-16  3625.04\n",
       "2017-09-15  3637.52\n",
       "2017-09-14  3154.95\n",
       "2017-09-13  3882.59\n",
       "2017-12-09  4130.81\n",
       "2017-11-09  4161.27\n",
       "2017-10-09  4122.94\n",
       "2017-09-09  4226.06"
      ]
     },
     "execution_count": 320,
     "metadata": {},
     "output_type": "execute_result"
    }
   ],
   "source": [
    "series1['2017-09-16':'2017-09-09']"
   ]
  },
  {
   "cell_type": "markdown",
   "metadata": {},
   "source": [
    "# Autocorrelation Plot of Closing value"
   ]
  },
  {
   "cell_type": "code",
   "execution_count": 324,
   "metadata": {},
   "outputs": [
    {
     "data": {
      "image/png": "[encoded data removed]",
      "text/plain": [
       "<Figure size 936x576 with 1 Axes>"
      ]
     },
     "metadata": {
      "needs_background": "light"
     },
     "output_type": "display_data"
    }
   ],
   "source": [
    "correlation= series1.corr()\n",
    "Aseries = series1[['Close']]\n",
    "plt.figure(figsize=(13,8),)\n",
    "\n",
    "autocorrelation_plot(series1)\n",
    "plt.savefig(\"Autocorrelation Plot of Closing value\")\n",
    "plt.show()"
   ]
  },
  {
   "cell_type": "code",
   "execution_count": 337,
   "metadata": {},
   "outputs": [
    {
     "data": {
      "text/html": [
       "<div>\n",
       "<style scoped>\n",
       "    .dataframe tbody tr th:only-of-type {\n",
       "        vertical-align: middle;\n",
       "    }\n",
       "\n",
       "    .dataframe tbody tr th {\n",
       "        vertical-align: top;\n",
       "    }\n",
       "\n",
       "    .dataframe thead th {\n",
       "        text-align: right;\n",
       "    }\n",
       "</style>\n",
       "<table border=\"1\" class=\"dataframe\">\n",
       "  <thead>\n",
       "    <tr style=\"text-align: right;\">\n",
       "      <th></th>\n",
       "      <th>Close</th>\n",
       "    </tr>\n",
       "  </thead>\n",
       "  <tbody>\n",
       "    <tr>\n",
       "      <td>Close</td>\n",
       "      <td>1.0</td>\n",
       "    </tr>\n",
       "  </tbody>\n",
       "</table>\n",
       "</div>"
      ],
      "text/plain": [
       "       Close\n",
       "Close    1.0"
      ]
     },
     "execution_count": 337,
     "metadata": {},
     "output_type": "execute_result"
    }
   ],
   "source": [
    "correlation"
   ]
  },
  {
   "cell_type": "code",
   "execution_count": 335,
   "metadata": {
    "scrolled": true
   },
   "outputs": [
    {
     "name": "stderr",
     "output_type": "stream",
     "text": [
      "C:\\Users\\adddddaaa\\Anaconda3\\lib\\site-packages\\statsmodels\\tsa\\base\\tsa_model.py:219: ValueWarning: A date index has been provided, but it has no associated frequency information and so will be ignored when e.g. forecasting.\n",
      "  ' ignored when e.g. forecasting.', ValueWarning)\n",
      "C:\\Users\\adddddaaa\\Anaconda3\\lib\\site-packages\\statsmodels\\tsa\\base\\tsa_model.py:219: ValueWarning: A date index has been provided, but it has no associated frequency information and so will be ignored when e.g. forecasting.\n",
      "  ' ignored when e.g. forecasting.', ValueWarning)\n"
     ]
    },
    {
     "name": "stdout",
     "output_type": "stream",
     "text": [
      "                             ARIMA Model Results                              \n",
      "==============================================================================\n",
      "Dep. Variable:                D.Close   No. Observations:                 1608\n",
      "Model:                ARIMA(11, 1, 0)   Log Likelihood               -8632.436\n",
      "Method:                       css-mle   S.D. of innovations             51.907\n",
      "Date:                Fri, 10 Jan 2020   AIC                          17290.872\n",
      "Time:                        00:31:21   BIC                          17360.848\n",
      "Sample:                             1   HQIC                         17316.850\n",
      "                                                                              \n",
      "==================================================================================\n",
      "                     coef    std err          z      P>|z|      [0.025      0.975]\n",
      "----------------------------------------------------------------------------------\n",
      "const             -2.1652      1.366     -1.585      0.113      -4.842       0.511\n",
      "ar.L1.D.Close     -0.0532      0.025     -2.133      0.033      -0.102      -0.004\n",
      "ar.L2.D.Close      0.0068      0.025      0.268      0.789      -0.043       0.057\n",
      "ar.L3.D.Close      0.0054      0.025      0.214      0.831      -0.044       0.055\n",
      "ar.L4.D.Close     -0.0894      0.025     -3.530      0.000      -0.139      -0.040\n",
      "ar.L5.D.Close      0.0338      0.026      1.300      0.194      -0.017       0.085\n",
      "ar.L6.D.Close      0.0773      0.026      2.991      0.003       0.027       0.128\n",
      "ar.L7.D.Close     -0.0073      0.026     -0.283      0.777      -0.058       0.043\n",
      "ar.L8.D.Close     -0.0158      0.027     -0.591      0.554      -0.068       0.037\n",
      "ar.L9.D.Close      0.0454      0.029      1.583      0.114      -0.011       0.102\n",
      "ar.L10.D.Close     0.0167      0.029      0.576      0.565      -0.040       0.073\n",
      "ar.L11.D.Close     0.0329      0.029      1.137      0.256      -0.024       0.090\n",
      "                                    Roots                                     \n",
      "==============================================================================\n",
      "                   Real          Imaginary           Modulus         Frequency\n",
      "------------------------------------------------------------------------------\n",
      "AR.1             1.2651           -0.0000j            1.2651           -0.0000\n",
      "AR.2             1.0657           -0.7941j            1.3290           -0.1019\n",
      "AR.3             1.0657           +0.7941j            1.3290            0.1019\n",
      "AR.4             0.4956           -1.2010j            1.2992           -0.1877\n",
      "AR.5             0.4956           +1.2010j            1.2992            0.1877\n",
      "AR.6            -1.2733           -0.4096j            1.3376           -0.4505\n",
      "AR.7            -1.2733           +0.4096j            1.3376            0.4505\n",
      "AR.8            -0.7828           -1.0455j            1.3061           -0.3523\n",
      "AR.9            -0.7828           +1.0455j            1.3061            0.3523\n",
      "AR.10           -0.3909           -1.5766j            1.6243           -0.2887\n",
      "AR.11           -0.3909           +1.5766j            1.6243            0.2887\n",
      "------------------------------------------------------------------------------\n"
     ]
    }
   ],
   "source": [
    "from statsmodels.tsa.arima_model import ARIMA\n",
    "\n",
    "model = ARIMA (series1,order=(11,1,0))\n",
    "model_fit = model.fit(disp=0)\n",
    "print(model_fit.summary())"
   ]
  },
  {
   "cell_type": "code",
   "execution_count": 336,
   "metadata": {},
   "outputs": [
    {
     "data": {
      "image/png": "[encoded data removed]",
      "text/plain": [
       "<Figure size 936x576 with 1 Axes>"
      ]
     },
     "metadata": {
      "needs_background": "light"
     },
     "output_type": "display_data"
    },
    {
     "data": {
      "image/png": "[encoded data removed]",
      "text/plain": [
       "<Figure size 936x576 with 1 Axes>"
      ]
     },
     "metadata": {
      "needs_background": "light"
     },
     "output_type": "display_data"
    },
    {
     "name": "stdout",
     "output_type": "stream",
     "text": [
      "                 0\n",
      "count  1608.000000\n",
      "mean     -0.002603\n",
      "std      51.963137\n",
      "min    -548.022910\n",
      "25%      -5.331536\n",
      "50%       1.601816\n",
      "75%       6.965117\n",
      "max     658.572718\n"
     ]
    }
   ],
   "source": [
    "from pandas import DataFrame\n",
    "\n",
    "residuals = DataFrame(model_fit.resid)\n",
    "residuals.plot(figsize=(13,8))\n",
    "plt.show()\n",
    "residuals.plot(kind='kde', figsize=(13,8))\n",
    "plt.show()\n",
    "print(residuals.describe())\n"
   ]
  },
  {
   "cell_type": "markdown",
   "metadata": {},
   "source": [
    "# FIN\n",
    " "
   ]
  },
  {
   "cell_type": "markdown",
   "metadata": {},
   "source": [
    "# signature=LAKHAL ADNANE"
   ]
  },
  {
   "cell_type": "code",
   "execution_count": null,
   "metadata": {},
   "outputs": [],
   "source": []
  }
 ],
 "metadata": {
  "kernelspec": {
   "display_name": "Python 3",
   "language": "python",
   "name": "python3"
  },
  "language_info": {
   "codemirror_mode": {
    "name": "ipython",
    "version": 3
   },
   "file_extension": ".py",
   "mimetype": "text/x-python",
   "name": "python",
   "nbconvert_exporter": "python",
   "pygments_lexer": "ipython3",
   "version": "3.7.4"
  }
 },
 "nbformat": 4,
 "nbformat_minor": 2
}
